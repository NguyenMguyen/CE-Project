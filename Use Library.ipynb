{
 "cells": [
  {
   "cell_type": "markdown",
   "metadata": {},
   "source": [
    "# MNIST"
   ]
  },
  {
   "cell_type": "code",
   "execution_count": 2,
   "metadata": {},
   "outputs": [],
   "source": [
    "import numpy as np\n",
    "import matplotlib.pyplot as plt\n",
    "import seaborn as sb\n",
    "import pickle\n",
    "import os\n",
    "import time\n",
    "from sklearn.feature_extraction.text import CountVectorizer, TfidfTransformer\n",
    "from sklearn.pipeline import Pipeline\n",
    "from sklearn.naive_bayes import MultinomialNB\n",
    "from sklearn.linear_model import LogisticRegression\n",
    "from sklearn.svm import SVC\n",
    "from sklearn.metrics import classification_report, confusion_matrix, accuracy_score, f1_score\n",
    "from sklearn.manifold import TSNE\n",
    "from sklearn.model_selection import StratifiedKFold\n",
    "from statistics import mean\n",
    "from sklearn.neighbors import KNeighborsClassifier\n",
    "from keras.datasets import mnist, cifar10"
   ]
  },
  {
   "cell_type": "code",
   "execution_count": 3,
   "metadata": {},
   "outputs": [],
   "source": [
    "(X_train, y_train), (X_test, y_test) = mnist.load_data()"
   ]
  },
  {
   "cell_type": "code",
   "execution_count": 8,
   "metadata": {},
   "outputs": [],
   "source": [
    "X_train = X_train.reshape(-1, 784)\n",
    "X_train = X_train.astype('float32')\n",
    "X_test = X_test.reshape(-1, 784)\n",
    "X_test = X_test.astype('float32')"
   ]
  },
  {
   "cell_type": "code",
   "execution_count": 14,
   "metadata": {},
   "outputs": [
    {
     "data": {
      "image/png": "[encoded data removed]",
      "text/plain": [
       "<Figure size 432x288 with 1 Axes>"
      ]
     },
     "metadata": {
      "needs_background": "light"
     },
     "output_type": "display_data"
    }
   ],
   "source": [
    "from display_network import *\n",
    "N = 20\n",
    "X = X_train[np.random.choice(X_train.shape[0], N)]/255\n",
    "plt.axis('off')\n",
    "A = display_network(X.T, 4, 5)\n",
    "f2 = plt.imshow(A, interpolation='nearest' )\n",
    "plt.gray()\n",
    "plt.savefig('image/mnist_ex.png', bbox_inches='tight', dpi = 400)\n",
    "plt.show()"
   ]
  },
  {
   "cell_type": "code",
   "execution_count": 4,
   "metadata": {},
   "outputs": [
    {
     "name": "stdout",
     "output_type": "stream",
     "text": [
      "Train samples: (60000, 784)\n",
      "Test samples: (10000, 784)\n"
     ]
    }
   ],
   "source": [
    "# normalize\n",
    "X_train /= 255\n",
    "X_test /= 255\n",
    "print('Train samples:', X_train.shape)\n",
    "print('Test samples:', X_test.shape)"
   ]
  },
  {
   "cell_type": "markdown",
   "metadata": {},
   "source": [
    "## Train"
   ]
  },
  {
   "cell_type": "code",
   "execution_count": 9,
   "metadata": {},
   "outputs": [],
   "source": [
    "# Save train time each model\n",
    "train_times = []"
   ]
  },
  {
   "cell_type": "code",
   "execution_count": 10,
   "metadata": {},
   "outputs": [
    {
     "name": "stdout",
     "output_type": "stream",
     "text": [
      "Huấn luyện xong KNN sau 0.07s\n"
     ]
    }
   ],
   "source": [
    "# Mô hình KNN với K = 30 và sử dụng khoảng cách Euclide\n",
    "knn = KNeighborsClassifier(n_neighbors=30, metric='euclidean')\n",
    "start = time.time()\n",
    "knn.fit(X_train, y_train)\n",
    "tmp = time.time() - start\n",
    "train_times.append(tmp)\n",
    "print('Huấn luyện xong KNN sau {:.2f}s'.format(tmp))"
   ]
  },
  {
   "cell_type": "code",
   "execution_count": 11,
   "metadata": {},
   "outputs": [
    {
     "name": "stdout",
     "output_type": "stream",
     "text": [
      "Huấn luyện xong Multinomial Naive Bayes sau 1.26s\n"
     ]
    }
   ],
   "source": [
    "# Mô hình Multinomial Naive Bayes với alpha = 0.005\n",
    "mnb = MultinomialNB(alpha=0.005)\n",
    "start = time.time()\n",
    "mnb.fit(X_train, y_train)\n",
    "tmp = time.time() - start\n",
    "train_times.append(tmp)\n",
    "print('Huấn luyện xong Multinomial Naive Bayes sau {:.2f}s'.format(tmp))"
   ]
  },
  {
   "cell_type": "code",
   "execution_count": 12,
   "metadata": {},
   "outputs": [
    {
     "name": "stdout",
     "output_type": "stream",
     "text": [
      "Huấn luyện xong Softmax Regression sau 574.40s\n"
     ]
    }
   ],
   "source": [
    "# Mô hình Softmax Regression phương pháp hiệu chỉnh L2, C = 16\n",
    "lreg = LogisticRegression(C=16, solver='lbfgs', multi_class='multinomial', max_iter=10_000)\n",
    "start = time.time()\n",
    "lreg.fit(X_train, y_train)\n",
    "tmp = time.time() - start\n",
    "train_times.append(tmp)\n",
    "print('Huấn luyện xong Softmax Regression sau {:.2f}s'.format(tmp))"
   ]
  },
  {
   "cell_type": "code",
   "execution_count": 13,
   "metadata": {},
   "outputs": [
    {
     "name": "stdout",
     "output_type": "stream",
     "text": [
      "Huấn luyện xong SVM sau 415.84s\n"
     ]
    }
   ],
   "source": [
    "# Mô hình SVM sử dụng hàm linear và C = 10\n",
    "svm = SVC(C=10, kernel='linear')\n",
    "start = time.time()\n",
    "svm.fit(X_train, y_train)\n",
    "tmp = time.time() - start\n",
    "train_times.append(tmp)\n",
    "print('Huấn luyện xong SVM sau {:.2f}s'.format(tmp))"
   ]
  },
  {
   "cell_type": "markdown",
   "metadata": {},
   "source": [
    "## Evaluate models"
   ]
  },
  {
   "cell_type": "code",
   "execution_count": 15,
   "metadata": {},
   "outputs": [],
   "source": [
    "# save scores each model\n",
    "accuracy_scores = []\n",
    "f1_scores = []"
   ]
  },
  {
   "cell_type": "code",
   "execution_count": 17,
   "metadata": {},
   "outputs": [
    {
     "name": "stdout",
     "output_type": "stream",
     "text": [
      "KNN:\n",
      "Accuracy score: 95.960 %\n",
      "F1 score:       95.972 %\n"
     ]
    }
   ],
   "source": [
    "# KNN\n",
    "y_pred = knn.predict(X_test)\n",
    "acc = accuracy_score(y_test, y_pred)\n",
    "f1 = f1_score(y_test, y_pred, average='macro')\n",
    "accuracy_scores.append(acc)\n",
    "f1_scores.append(f1)\n",
    "print('KNN:')\n",
    "print('Accuracy score: {:.3f} %'.format(acc * 100))\n",
    "print('F1 score:       {:.3f} %'.format(f1 * 100))"
   ]
  },
  {
   "cell_type": "code",
   "execution_count": 18,
   "metadata": {},
   "outputs": [
    {
     "name": "stdout",
     "output_type": "stream",
     "text": [
      "MNB:\n",
      "Accuracy score: 83.620 %\n",
      "F1 score:       83.471 %\n"
     ]
    }
   ],
   "source": [
    "# MNB\n",
    "y_pred = mnb.predict(X_test)\n",
    "acc = accuracy_score(y_test, y_pred)\n",
    "f1 = f1_score(y_test, y_pred, average='macro')\n",
    "accuracy_scores.append(acc)\n",
    "f1_scores.append(f1)\n",
    "print('MNB:')\n",
    "print('Accuracy score: {:.3f} %'.format(acc * 100))\n",
    "print('F1 score:       {:.3f} %'.format(f1 * 100))"
   ]
  },
  {
   "cell_type": "code",
   "execution_count": 19,
   "metadata": {},
   "outputs": [
    {
     "name": "stdout",
     "output_type": "stream",
     "text": [
      "Softmax:\n",
      "Accuracy score: 92.300 %\n",
      "F1 score:       92.196 %\n"
     ]
    }
   ],
   "source": [
    "# Softmax\n",
    "y_pred = lreg.predict(X_test)\n",
    "acc = accuracy_score(y_test, y_pred)\n",
    "f1 = f1_score(y_test, y_pred, average='macro')\n",
    "accuracy_scores.append(acc)\n",
    "f1_scores.append(f1)\n",
    "print('Softmax:')\n",
    "print('Accuracy score: {:.3f} %'.format(acc * 100))\n",
    "print('F1 score:       {:.3f} %'.format(f1 * 100))"
   ]
  },
  {
   "cell_type": "code",
   "execution_count": 20,
   "metadata": {},
   "outputs": [
    {
     "name": "stdout",
     "output_type": "stream",
     "text": [
      "SVM:\n",
      "Accuracy score: 93.110 %\n",
      "F1 score:       93.003 %\n"
     ]
    }
   ],
   "source": [
    "# SVM\n",
    "y_pred = svm.predict(X_test)\n",
    "acc = accuracy_score(y_test, y_pred)\n",
    "f1 = f1_score(y_test, y_pred, average='macro')\n",
    "accuracy_scores.append(acc)\n",
    "f1_scores.append(f1)\n",
    "print('SVM:')\n",
    "print('Accuracy score: {:.3f} %'.format(acc * 100))\n",
    "print('F1 score:       {:.3f} %'.format(f1 * 100))"
   ]
  },
  {
   "cell_type": "markdown",
   "metadata": {},
   "source": [
    "## Visualization"
   ]
  },
  {
   "cell_type": "code",
   "execution_count": 21,
   "metadata": {},
   "outputs": [],
   "source": [
    "models = np.array(['KNN', 'Multinomial NB', 'Softmax Regression', 'SVM'])"
   ]
  },
  {
   "cell_type": "code",
   "execution_count": 25,
   "metadata": {},
   "outputs": [
    {
     "data": {
      "image/png": "[encoded data removed]",
      "text/plain": [
       "<Figure size 1152x720 with 1 Axes>"
      ]
     },
     "metadata": {
      "needs_background": "light"
     },
     "output_type": "display_data"
    }
   ],
   "source": [
    "# Về thời gian\n",
    "plt.figure(figsize=(16, 10))\n",
    "plt.title('Thời gian train với dữ liệu MNIST')\n",
    "plt.xlabel('Mô hình')\n",
    "plt.ylabel('Thời gian (s)')\n",
    "plt.bar(models, np.array(train_times), color='dodgerblue', width=0.5, label='Train')\n",
    "plt.legend(loc='best')\n",
    "plt.savefig('image/mnist_time_comparision.png', facecolor='whitesmoke')\n",
    "plt.show()"
   ]
  },
  {
   "cell_type": "code",
   "execution_count": 26,
   "metadata": {},
   "outputs": [
    {
     "data": {
      "image/png": "[encoded data removed]",
      "text/plain": [
       "<Figure size 1152x720 with 1 Axes>"
      ]
     },
     "metadata": {
      "needs_background": "light"
     },
     "output_type": "display_data"
    }
   ],
   "source": [
    "# Về độ chính xác\n",
    "plt.figure(figsize=(16, 10))\n",
    "plt.title('Độ chính xác của các mô hình với dữ liệu MNIST')\n",
    "plt.xlabel('Mô hình')\n",
    "plt.ylabel('%')\n",
    "plt.ylim(70, 100)\n",
    "plt.bar(models, np.array(accuracy_scores) * 100, color='tomato', width=0.5, label='Accuracy')\n",
    "plt.savefig('image/mnist_accuracy_comparision.png', facecolor='whitesmoke')\n",
    "plt.show()"
   ]
  },
  {
   "cell_type": "code",
   "execution_count": 27,
   "metadata": {},
   "outputs": [
    {
     "data": {
      "image/png": "[encoded data removed]",
      "text/plain": [
       "<Figure size 1152x720 with 1 Axes>"
      ]
     },
     "metadata": {
      "needs_background": "light"
     },
     "output_type": "display_data"
    }
   ],
   "source": [
    "# Về F1 score\n",
    "plt.figure(figsize=(16, 10))\n",
    "plt.title('F1 score của các mô hình với dữ liệu MNIST')\n",
    "plt.xlabel('Mô hình')\n",
    "plt.ylabel('%')\n",
    "plt.ylim(70, 100)\n",
    "plt.bar(models, np.array(f1_scores) * 100, color='crimson', width=0.5, label='F1')\n",
    "plt.savefig('image/mnist_f1_comparision.png', facecolor='whitesmoke')\n",
    "plt.show()"
   ]
  },
  {
   "cell_type": "markdown",
   "metadata": {},
   "source": [
    "# CIFAR10"
   ]
  },
  {
   "cell_type": "code",
   "execution_count": 53,
   "metadata": {},
   "outputs": [],
   "source": [
    "from keras.applications import VGG16, imagenet_utils\n",
    "import cv2\n",
    "import tensorflow as tf"
   ]
  },
  {
   "cell_type": "code",
   "execution_count": 142,
   "metadata": {},
   "outputs": [
    {
     "name": "stdout",
     "output_type": "stream",
     "text": [
      "(50000, 32, 32, 3) (10000, 32, 32, 3)\n"
     ]
    }
   ],
   "source": [
    "(X_train_raw, y_train), (X_test_raw, y_test) = cifar10.load_data()\n",
    "print(X_train_raw.shape, X_test_raw.shape)"
   ]
  },
  {
   "cell_type": "markdown",
   "metadata": {},
   "source": [
    "## Feature Extractor"
   ]
  },
  {
   "cell_type": "code",
   "execution_count": 112,
   "metadata": {},
   "outputs": [
    {
     "name": "stdout",
     "output_type": "stream",
     "text": [
      "(50000, 224, 224, 3)\n"
     ]
    }
   ],
   "source": [
    "X_train = np.zeros((50000, 224, 224, 3), dtype=np.uint8)\n",
    "for i in range(X_train_raw.shape[0]):\n",
    "    X_train[i] = cv2.resize(X_train_raw[i], (224, 224))\n",
    "    X_train[i] = imagenet_utils.preprocess_input(X_train[i])\n",
    "\n",
    "print(X_train.shape)"
   ]
  },
  {
   "cell_type": "code",
   "execution_count": 114,
   "metadata": {},
   "outputs": [],
   "source": [
    "# Load model VGG 16 của ImageNet dataset, include_top=False để bỏ phần Fully connected layer ở cuối.\n",
    "model = VGG16(weights='imagenet', include_top=False)"
   ]
  },
  {
   "cell_type": "code",
   "execution_count": 115,
   "metadata": {},
   "outputs": [
    {
     "name": "stdout",
     "output_type": "stream",
     "text": [
      "  30/1563 [..............................] - ETA: 2:45:13"
     ]
    },
    {
     "ename": "KeyboardInterrupt",
     "evalue": "",
     "output_type": "error",
     "traceback": [
      "\u001b[1;31m---------------------------------------------------------------------------\u001b[0m",
      "\u001b[1;31mKeyboardInterrupt\u001b[0m                         Traceback (most recent call last)",
      "\u001b[1;32me:\\Nam 5\\2022.1\\CE Project\\Project\\Use Library.ipynb Cell 30\u001b[0m in \u001b[0;36m<cell line: 2>\u001b[1;34m()\u001b[0m\n\u001b[0;32m      <a href='vscode-notebook-cell:/e%3A/Nam%205/2022.1/CE%20Project/Project/Use%20Library.ipynb#Y112sZmlsZQ%3D%3D?line=0'>1</a>\u001b[0m \u001b[39m# Dùng pre-trained model để lấy ra các feature của ảnh\u001b[39;00m\n\u001b[1;32m----> <a href='vscode-notebook-cell:/e%3A/Nam%205/2022.1/CE%20Project/Project/Use%20Library.ipynb#Y112sZmlsZQ%3D%3D?line=1'>2</a>\u001b[0m features \u001b[39m=\u001b[39m model\u001b[39m.\u001b[39;49mpredict(X_train)\n\u001b[0;32m      <a href='vscode-notebook-cell:/e%3A/Nam%205/2022.1/CE%20Project/Project/Use%20Library.ipynb#Y112sZmlsZQ%3D%3D?line=3'>4</a>\u001b[0m \u001b[39m# Giống bước flatten trong CNN, chuyển từ tensor 3 chiều sau ConvNet sang vector 1 chiều\u001b[39;00m\n\u001b[0;32m      <a href='vscode-notebook-cell:/e%3A/Nam%205/2022.1/CE%20Project/Project/Use%20Library.ipynb#Y112sZmlsZQ%3D%3D?line=4'>5</a>\u001b[0m features \u001b[39m=\u001b[39m features\u001b[39m.\u001b[39mreshape((features\u001b[39m.\u001b[39mshape[\u001b[39m0\u001b[39m], \u001b[39m512\u001b[39m\u001b[39m*\u001b[39m\u001b[39m7\u001b[39m\u001b[39m*\u001b[39m\u001b[39m7\u001b[39m))\n",
      "File \u001b[1;32mc:\\Users\\ADMIN\\AppData\\Local\\Programs\\Python\\Python310\\lib\\site-packages\\keras\\utils\\traceback_utils.py:65\u001b[0m, in \u001b[0;36mfilter_traceback.<locals>.error_handler\u001b[1;34m(*args, **kwargs)\u001b[0m\n\u001b[0;32m     63\u001b[0m filtered_tb \u001b[39m=\u001b[39m \u001b[39mNone\u001b[39;00m\n\u001b[0;32m     64\u001b[0m \u001b[39mtry\u001b[39;00m:\n\u001b[1;32m---> 65\u001b[0m     \u001b[39mreturn\u001b[39;00m fn(\u001b[39m*\u001b[39margs, \u001b[39m*\u001b[39m\u001b[39m*\u001b[39mkwargs)\n\u001b[0;32m     66\u001b[0m \u001b[39mexcept\u001b[39;00m \u001b[39mException\u001b[39;00m \u001b[39mas\u001b[39;00m e:\n\u001b[0;32m     67\u001b[0m     filtered_tb \u001b[39m=\u001b[39m _process_traceback_frames(e\u001b[39m.\u001b[39m__traceback__)\n",
      "File \u001b[1;32mc:\\Users\\ADMIN\\AppData\\Local\\Programs\\Python\\Python310\\lib\\site-packages\\keras\\engine\\training.py:2253\u001b[0m, in \u001b[0;36mModel.predict\u001b[1;34m(self, x, batch_size, verbose, steps, callbacks, max_queue_size, workers, use_multiprocessing)\u001b[0m\n\u001b[0;32m   2251\u001b[0m \u001b[39mfor\u001b[39;00m step \u001b[39min\u001b[39;00m data_handler\u001b[39m.\u001b[39msteps():\n\u001b[0;32m   2252\u001b[0m     callbacks\u001b[39m.\u001b[39mon_predict_batch_begin(step)\n\u001b[1;32m-> 2253\u001b[0m     tmp_batch_outputs \u001b[39m=\u001b[39m \u001b[39mself\u001b[39;49m\u001b[39m.\u001b[39;49mpredict_function(iterator)\n\u001b[0;32m   2254\u001b[0m     \u001b[39mif\u001b[39;00m data_handler\u001b[39m.\u001b[39mshould_sync:\n\u001b[0;32m   2255\u001b[0m         context\u001b[39m.\u001b[39masync_wait()\n",
      "File \u001b[1;32mc:\\Users\\ADMIN\\AppData\\Local\\Programs\\Python\\Python310\\lib\\site-packages\\tensorflow\\python\\util\\traceback_utils.py:150\u001b[0m, in \u001b[0;36mfilter_traceback.<locals>.error_handler\u001b[1;34m(*args, **kwargs)\u001b[0m\n\u001b[0;32m    148\u001b[0m filtered_tb \u001b[39m=\u001b[39m \u001b[39mNone\u001b[39;00m\n\u001b[0;32m    149\u001b[0m \u001b[39mtry\u001b[39;00m:\n\u001b[1;32m--> 150\u001b[0m   \u001b[39mreturn\u001b[39;00m fn(\u001b[39m*\u001b[39margs, \u001b[39m*\u001b[39m\u001b[39m*\u001b[39mkwargs)\n\u001b[0;32m    151\u001b[0m \u001b[39mexcept\u001b[39;00m \u001b[39mException\u001b[39;00m \u001b[39mas\u001b[39;00m e:\n\u001b[0;32m    152\u001b[0m   filtered_tb \u001b[39m=\u001b[39m _process_traceback_frames(e\u001b[39m.\u001b[39m__traceback__)\n",
      "File \u001b[1;32mc:\\Users\\ADMIN\\AppData\\Local\\Programs\\Python\\Python310\\lib\\site-packages\\tensorflow\\python\\eager\\def_function.py:915\u001b[0m, in \u001b[0;36mFunction.__call__\u001b[1;34m(self, *args, **kwds)\u001b[0m\n\u001b[0;32m    912\u001b[0m compiler \u001b[39m=\u001b[39m \u001b[39m\"\u001b[39m\u001b[39mxla\u001b[39m\u001b[39m\"\u001b[39m \u001b[39mif\u001b[39;00m \u001b[39mself\u001b[39m\u001b[39m.\u001b[39m_jit_compile \u001b[39melse\u001b[39;00m \u001b[39m\"\u001b[39m\u001b[39mnonXla\u001b[39m\u001b[39m\"\u001b[39m\n\u001b[0;32m    914\u001b[0m \u001b[39mwith\u001b[39;00m OptionalXlaContext(\u001b[39mself\u001b[39m\u001b[39m.\u001b[39m_jit_compile):\n\u001b[1;32m--> 915\u001b[0m   result \u001b[39m=\u001b[39m \u001b[39mself\u001b[39m\u001b[39m.\u001b[39m_call(\u001b[39m*\u001b[39margs, \u001b[39m*\u001b[39m\u001b[39m*\u001b[39mkwds)\n\u001b[0;32m    917\u001b[0m new_tracing_count \u001b[39m=\u001b[39m \u001b[39mself\u001b[39m\u001b[39m.\u001b[39mexperimental_get_tracing_count()\n\u001b[0;32m    918\u001b[0m without_tracing \u001b[39m=\u001b[39m (tracing_count \u001b[39m==\u001b[39m new_tracing_count)\n",
      "File \u001b[1;32mc:\\Users\\ADMIN\\AppData\\Local\\Programs\\Python\\Python310\\lib\\site-packages\\tensorflow\\python\\eager\\def_function.py:954\u001b[0m, in \u001b[0;36mFunction._call\u001b[1;34m(self, *args, **kwds)\u001b[0m\n\u001b[0;32m    951\u001b[0m \u001b[39mself\u001b[39m\u001b[39m.\u001b[39m_lock\u001b[39m.\u001b[39mrelease()\n\u001b[0;32m    952\u001b[0m \u001b[39m# In this case we have not created variables on the first call. So we can\u001b[39;00m\n\u001b[0;32m    953\u001b[0m \u001b[39m# run the first trace but we should fail if variables are created.\u001b[39;00m\n\u001b[1;32m--> 954\u001b[0m results \u001b[39m=\u001b[39m \u001b[39mself\u001b[39m\u001b[39m.\u001b[39m_stateful_fn(\u001b[39m*\u001b[39margs, \u001b[39m*\u001b[39m\u001b[39m*\u001b[39mkwds)\n\u001b[0;32m    955\u001b[0m \u001b[39mif\u001b[39;00m \u001b[39mself\u001b[39m\u001b[39m.\u001b[39m_created_variables \u001b[39mand\u001b[39;00m \u001b[39mnot\u001b[39;00m ALLOW_DYNAMIC_VARIABLE_CREATION:\n\u001b[0;32m    956\u001b[0m   \u001b[39mraise\u001b[39;00m \u001b[39mValueError\u001b[39;00m(\u001b[39m\"\u001b[39m\u001b[39mCreating variables on a non-first call to a function\u001b[39m\u001b[39m\"\u001b[39m\n\u001b[0;32m    957\u001b[0m                    \u001b[39m\"\u001b[39m\u001b[39m decorated with tf.function.\u001b[39m\u001b[39m\"\u001b[39m)\n",
      "File \u001b[1;32mc:\\Users\\ADMIN\\AppData\\Local\\Programs\\Python\\Python310\\lib\\site-packages\\tensorflow\\python\\eager\\function.py:2496\u001b[0m, in \u001b[0;36mFunction.__call__\u001b[1;34m(self, *args, **kwargs)\u001b[0m\n\u001b[0;32m   2493\u001b[0m \u001b[39mwith\u001b[39;00m \u001b[39mself\u001b[39m\u001b[39m.\u001b[39m_lock:\n\u001b[0;32m   2494\u001b[0m   (graph_function,\n\u001b[0;32m   2495\u001b[0m    filtered_flat_args) \u001b[39m=\u001b[39m \u001b[39mself\u001b[39m\u001b[39m.\u001b[39m_maybe_define_function(args, kwargs)\n\u001b[1;32m-> 2496\u001b[0m \u001b[39mreturn\u001b[39;00m graph_function\u001b[39m.\u001b[39;49m_call_flat(\n\u001b[0;32m   2497\u001b[0m     filtered_flat_args, captured_inputs\u001b[39m=\u001b[39;49mgraph_function\u001b[39m.\u001b[39;49mcaptured_inputs)\n",
      "File \u001b[1;32mc:\\Users\\ADMIN\\AppData\\Local\\Programs\\Python\\Python310\\lib\\site-packages\\tensorflow\\python\\eager\\function.py:1862\u001b[0m, in \u001b[0;36mConcreteFunction._call_flat\u001b[1;34m(self, args, captured_inputs, cancellation_manager)\u001b[0m\n\u001b[0;32m   1858\u001b[0m possible_gradient_type \u001b[39m=\u001b[39m gradients_util\u001b[39m.\u001b[39mPossibleTapeGradientTypes(args)\n\u001b[0;32m   1859\u001b[0m \u001b[39mif\u001b[39;00m (possible_gradient_type \u001b[39m==\u001b[39m gradients_util\u001b[39m.\u001b[39mPOSSIBLE_GRADIENT_TYPES_NONE\n\u001b[0;32m   1860\u001b[0m     \u001b[39mand\u001b[39;00m executing_eagerly):\n\u001b[0;32m   1861\u001b[0m   \u001b[39m# No tape is watching; skip to running the function.\u001b[39;00m\n\u001b[1;32m-> 1862\u001b[0m   \u001b[39mreturn\u001b[39;00m \u001b[39mself\u001b[39m\u001b[39m.\u001b[39m_build_call_outputs(\u001b[39mself\u001b[39;49m\u001b[39m.\u001b[39;49m_inference_function\u001b[39m.\u001b[39;49mcall(\n\u001b[0;32m   1863\u001b[0m       ctx, args, cancellation_manager\u001b[39m=\u001b[39;49mcancellation_manager))\n\u001b[0;32m   1864\u001b[0m forward_backward \u001b[39m=\u001b[39m \u001b[39mself\u001b[39m\u001b[39m.\u001b[39m_select_forward_and_backward_functions(\n\u001b[0;32m   1865\u001b[0m     args,\n\u001b[0;32m   1866\u001b[0m     possible_gradient_type,\n\u001b[0;32m   1867\u001b[0m     executing_eagerly)\n\u001b[0;32m   1868\u001b[0m forward_function, args_with_tangents \u001b[39m=\u001b[39m forward_backward\u001b[39m.\u001b[39mforward()\n",
      "File \u001b[1;32mc:\\Users\\ADMIN\\AppData\\Local\\Programs\\Python\\Python310\\lib\\site-packages\\tensorflow\\python\\eager\\function.py:499\u001b[0m, in \u001b[0;36m_EagerDefinedFunction.call\u001b[1;34m(self, ctx, args, cancellation_manager)\u001b[0m\n\u001b[0;32m    497\u001b[0m \u001b[39mwith\u001b[39;00m _InterpolateFunctionError(\u001b[39mself\u001b[39m):\n\u001b[0;32m    498\u001b[0m   \u001b[39mif\u001b[39;00m cancellation_manager \u001b[39mis\u001b[39;00m \u001b[39mNone\u001b[39;00m:\n\u001b[1;32m--> 499\u001b[0m     outputs \u001b[39m=\u001b[39m execute\u001b[39m.\u001b[39;49mexecute(\n\u001b[0;32m    500\u001b[0m         \u001b[39mstr\u001b[39;49m(\u001b[39mself\u001b[39;49m\u001b[39m.\u001b[39;49msignature\u001b[39m.\u001b[39;49mname),\n\u001b[0;32m    501\u001b[0m         num_outputs\u001b[39m=\u001b[39;49m\u001b[39mself\u001b[39;49m\u001b[39m.\u001b[39;49m_num_outputs,\n\u001b[0;32m    502\u001b[0m         inputs\u001b[39m=\u001b[39;49margs,\n\u001b[0;32m    503\u001b[0m         attrs\u001b[39m=\u001b[39;49mattrs,\n\u001b[0;32m    504\u001b[0m         ctx\u001b[39m=\u001b[39;49mctx)\n\u001b[0;32m    505\u001b[0m   \u001b[39melse\u001b[39;00m:\n\u001b[0;32m    506\u001b[0m     outputs \u001b[39m=\u001b[39m execute\u001b[39m.\u001b[39mexecute_with_cancellation(\n\u001b[0;32m    507\u001b[0m         \u001b[39mstr\u001b[39m(\u001b[39mself\u001b[39m\u001b[39m.\u001b[39msignature\u001b[39m.\u001b[39mname),\n\u001b[0;32m    508\u001b[0m         num_outputs\u001b[39m=\u001b[39m\u001b[39mself\u001b[39m\u001b[39m.\u001b[39m_num_outputs,\n\u001b[1;32m   (...)\u001b[0m\n\u001b[0;32m    511\u001b[0m         ctx\u001b[39m=\u001b[39mctx,\n\u001b[0;32m    512\u001b[0m         cancellation_manager\u001b[39m=\u001b[39mcancellation_manager)\n",
      "File \u001b[1;32mc:\\Users\\ADMIN\\AppData\\Local\\Programs\\Python\\Python310\\lib\\site-packages\\tensorflow\\python\\eager\\execute.py:54\u001b[0m, in \u001b[0;36mquick_execute\u001b[1;34m(op_name, num_outputs, inputs, attrs, ctx, name)\u001b[0m\n\u001b[0;32m     52\u001b[0m \u001b[39mtry\u001b[39;00m:\n\u001b[0;32m     53\u001b[0m   ctx\u001b[39m.\u001b[39mensure_initialized()\n\u001b[1;32m---> 54\u001b[0m   tensors \u001b[39m=\u001b[39m pywrap_tfe\u001b[39m.\u001b[39;49mTFE_Py_Execute(ctx\u001b[39m.\u001b[39;49m_handle, device_name, op_name,\n\u001b[0;32m     55\u001b[0m                                       inputs, attrs, num_outputs)\n\u001b[0;32m     56\u001b[0m \u001b[39mexcept\u001b[39;00m core\u001b[39m.\u001b[39m_NotOkStatusException \u001b[39mas\u001b[39;00m e:\n\u001b[0;32m     57\u001b[0m   \u001b[39mif\u001b[39;00m name \u001b[39mis\u001b[39;00m \u001b[39mnot\u001b[39;00m \u001b[39mNone\u001b[39;00m:\n",
      "\u001b[1;31mKeyboardInterrupt\u001b[0m: "
     ]
    }
   ],
   "source": [
    "# Dùng pre-trained model để lấy ra các feature của ảnh\n",
    "features = model.predict(X_train)\n",
    "\n",
    "# Giống bước flatten trong CNN, chuyển từ tensor 3 chiều sau ConvNet sang vector 1 chiều\n",
    "features = features.reshape((features.shape[0], 512*7*7))"
   ]
  },
  {
   "cell_type": "markdown",
   "metadata": {},
   "source": [
    "## Train"
   ]
  },
  {
   "cell_type": "code",
   "execution_count": 152,
   "metadata": {},
   "outputs": [],
   "source": [
    "features = np.array(pickle.load(open('data/saved/train_features.sav', 'rb')))\n",
    "y_train = np.array(pickle.load(open('data/saved/y_train.sav', 'rb')))"
   ]
  },
  {
   "cell_type": "code",
   "execution_count": 137,
   "metadata": {},
   "outputs": [],
   "source": [
    "# Save train time each model\n",
    "train_times = []"
   ]
  },
  {
   "cell_type": "code",
   "execution_count": 139,
   "metadata": {},
   "outputs": [
    {
     "name": "stdout",
     "output_type": "stream",
     "text": [
      "Huấn luyện xong KNN sau 0.49s\n"
     ]
    }
   ],
   "source": [
    "# Mô hình KNN với K = 30 và sử dụng khoảng cách Euclide\n",
    "knn = KNeighborsClassifier(n_neighbors=30, metric='euclidean')\n",
    "start = time.time()\n",
    "knn.fit(features, y_train)\n",
    "tmp = time.time() - start\n",
    "train_times.append(tmp)\n",
    "print('Huấn luyện xong KNN sau {:.2f}s'.format(tmp))"
   ]
  },
  {
   "cell_type": "code",
   "execution_count": 140,
   "metadata": {},
   "outputs": [
    {
     "name": "stdout",
     "output_type": "stream",
     "text": [
      "Huấn luyện xong Multinomial Naive Bayes sau 2.52s\n"
     ]
    }
   ],
   "source": [
    "# Mô hình Multinomial Naive Bayes với alpha = 0.005\n",
    "mnb = MultinomialNB(alpha=0.005)\n",
    "start = time.time()\n",
    "mnb.fit(features, y_train)\n",
    "tmp = time.time() - start\n",
    "train_times.append(tmp)\n",
    "print('Huấn luyện xong Multinomial Naive Bayes sau {:.2f}s'.format(tmp))"
   ]
  },
  {
   "cell_type": "code",
   "execution_count": 141,
   "metadata": {},
   "outputs": [
    {
     "name": "stdout",
     "output_type": "stream",
     "text": [
      "Huấn luyện xong Softmax Regression sau 530.62s\n"
     ]
    }
   ],
   "source": [
    "# Mô hình Softmax Regression phương pháp hiệu chỉnh L2, C = 16\n",
    "lreg = LogisticRegression(C=16, solver='lbfgs', multi_class='multinomial', max_iter=10_000)\n",
    "start = time.time()\n",
    "lreg.fit(features, y_train)\n",
    "tmp = time.time() - start\n",
    "train_times.append(tmp)\n",
    "print('Huấn luyện xong Softmax Regression sau {:.2f}s'.format(tmp))"
   ]
  },
  {
   "cell_type": "code",
   "execution_count": 153,
   "metadata": {},
   "outputs": [
    {
     "name": "stdout",
     "output_type": "stream",
     "text": [
      "Huấn luyện xong SVM sau 7586.60s\n"
     ]
    }
   ],
   "source": [
    "# Mô hình SVM sử dụng hàm linear và C = 10\n",
    "svm = SVC(C=10, kernel='linear')\n",
    "start = time.time()\n",
    "svm.fit(features, y_train)\n",
    "tmp = time.time() - start\n",
    "train_times.append(tmp)\n",
    "print('Huấn luyện xong SVM sau {:.2f}s'.format(tmp))"
   ]
  },
  {
   "cell_type": "markdown",
   "metadata": {},
   "source": [
    "## Evaluate"
   ]
  },
  {
   "cell_type": "code",
   "execution_count": 143,
   "metadata": {},
   "outputs": [],
   "source": [
    "test_features = np.array(pickle.load(open('data/saved/test_features.sav', 'rb')))"
   ]
  },
  {
   "cell_type": "code",
   "execution_count": 145,
   "metadata": {},
   "outputs": [],
   "source": [
    "accuracy_scores = []\n",
    "f1_scores = []"
   ]
  },
  {
   "cell_type": "code",
   "execution_count": 146,
   "metadata": {},
   "outputs": [
    {
     "name": "stdout",
     "output_type": "stream",
     "text": [
      "KNN:\n",
      "Accuracy score: 24.660 %\n",
      "F1 score:       19.594 %\n"
     ]
    }
   ],
   "source": [
    "# KNN\n",
    "y_pred = knn.predict(test_features)\n",
    "acc = accuracy_score(y_test, y_pred)\n",
    "f1 = f1_score(y_test, y_pred, average='macro')\n",
    "accuracy_scores.append(acc)\n",
    "f1_scores.append(f1)\n",
    "print('KNN:')\n",
    "print('Accuracy score: {:.3f} %'.format(acc * 100))\n",
    "print('F1 score:       {:.3f} %'.format(f1 * 100))"
   ]
  },
  {
   "cell_type": "code",
   "execution_count": 148,
   "metadata": {},
   "outputs": [
    {
     "name": "stdout",
     "output_type": "stream",
     "text": [
      "MNB:\n",
      "Accuracy score: 56.620 %\n",
      "F1 score:       56.441 %\n"
     ]
    }
   ],
   "source": [
    "# MNB\n",
    "y_pred = mnb.predict(test_features)\n",
    "acc = accuracy_score(y_test, y_pred)\n",
    "f1 = f1_score(y_test, y_pred, average='macro')\n",
    "accuracy_scores.append(acc)\n",
    "f1_scores.append(f1)\n",
    "print('MNB:')\n",
    "print('Accuracy score: {:.3f} %'.format(acc * 100))\n",
    "print('F1 score:       {:.3f} %'.format(f1 * 100))"
   ]
  },
  {
   "cell_type": "code",
   "execution_count": 149,
   "metadata": {},
   "outputs": [
    {
     "name": "stdout",
     "output_type": "stream",
     "text": [
      "Softmax:\n",
      "Accuracy score: 63.960 %\n",
      "F1 score:       63.896 %\n"
     ]
    }
   ],
   "source": [
    "# Softmax\n",
    "y_pred = lreg.predict(test_features)\n",
    "acc = accuracy_score(y_test, y_pred)\n",
    "f1 = f1_score(y_test, y_pred, average='macro')\n",
    "accuracy_scores.append(acc)\n",
    "f1_scores.append(f1)\n",
    "print('Softmax:')\n",
    "print('Accuracy score: {:.3f} %'.format(acc * 100))\n",
    "print('F1 score:       {:.3f} %'.format(f1 * 100))"
   ]
  },
  {
   "cell_type": "code",
   "execution_count": 154,
   "metadata": {},
   "outputs": [
    {
     "name": "stdout",
     "output_type": "stream",
     "text": [
      "SVM:\n",
      "Accuracy score: 64.520 %\n",
      "F1 score:       64.595 %\n"
     ]
    }
   ],
   "source": [
    "# SVM\n",
    "y_pred = svm.predict(test_features)\n",
    "acc = accuracy_score(y_test, y_pred)\n",
    "f1 = f1_score(y_test, y_pred, average='macro')\n",
    "accuracy_scores.append(acc)\n",
    "f1_scores.append(f1)\n",
    "print('SVM:')\n",
    "print('Accuracy score: {:.3f} %'.format(acc * 100))\n",
    "print('F1 score:       {:.3f} %'.format(f1 * 100))"
   ]
  },
  {
   "cell_type": "markdown",
   "metadata": {},
   "source": [
    "## Visualization"
   ]
  },
  {
   "cell_type": "code",
   "execution_count": 155,
   "metadata": {},
   "outputs": [],
   "source": [
    "models = np.array(['KNN', 'Multinomial NB', 'Softmax Regression', 'SVM'])"
   ]
  },
  {
   "cell_type": "code",
   "execution_count": 156,
   "metadata": {},
   "outputs": [
    {
     "data": {
      "image/png": "[encoded data removed]",
      "text/plain": [
       "<Figure size 1152x720 with 1 Axes>"
      ]
     },
     "metadata": {
      "needs_background": "light"
     },
     "output_type": "display_data"
    }
   ],
   "source": [
    "# Về thời gian\n",
    "plt.figure(figsize=(16, 10))\n",
    "plt.title('Thời gian train với dữ liệu CIFAR10')\n",
    "plt.xlabel('Mô hình')\n",
    "plt.ylabel('Thời gian (s)')\n",
    "plt.bar(models, np.array(train_times), color='dodgerblue', width=0.5, label='Train')\n",
    "plt.legend(loc='best')\n",
    "plt.savefig('image/cifar10_time_comparision.png', facecolor='whitesmoke')\n",
    "plt.show()"
   ]
  },
  {
   "cell_type": "code",
   "execution_count": 157,
   "metadata": {},
   "outputs": [
    {
     "data": {
      "image/png": "[encoded data removed]",
      "text/plain": [
       "<Figure size 1152x720 with 1 Axes>"
      ]
     },
     "metadata": {
      "needs_background": "light"
     },
     "output_type": "display_data"
    }
   ],
   "source": [
    "# Về độ chính xác\n",
    "plt.figure(figsize=(16, 10))\n",
    "plt.title('Độ chính xác của các mô hình với dữ liệu CIFAR10')\n",
    "plt.xlabel('Mô hình')\n",
    "plt.ylabel('%')\n",
    "plt.ylim(10, 70)\n",
    "plt.bar(models, np.array(accuracy_scores) * 100, color='tomato', width=0.5, label='Accuracy')\n",
    "plt.savefig('image/cifar10_accuracy_comparision.png', facecolor='whitesmoke')\n",
    "plt.show()"
   ]
  },
  {
   "cell_type": "code",
   "execution_count": 158,
   "metadata": {},
   "outputs": [
    {
     "data": {
      "image/png": "[encoded data removed]",
      "text/plain": [
       "<Figure size 1152x720 with 1 Axes>"
      ]
     },
     "metadata": {
      "needs_background": "light"
     },
     "output_type": "display_data"
    }
   ],
   "source": [
    "# Về F1 score\n",
    "plt.figure(figsize=(16, 10))\n",
    "plt.title('F1 score của các mô hình với dữ liệu CIFAR10')\n",
    "plt.xlabel('Mô hình')\n",
    "plt.ylabel('%')\n",
    "plt.ylim(10, 70)\n",
    "plt.bar(models, np.array(f1_scores) * 100, color='crimson', width=0.5, label='F1')\n",
    "plt.savefig('image/cifar10_f1_comparision.png', facecolor='whitesmoke')\n",
    "plt.show()"
   ]
  },
  {
   "cell_type": "code",
   "execution_count": null,
   "metadata": {},
   "outputs": [],
   "source": []
  }
 ],
 "metadata": {
  "kernelspec": {
   "display_name": "Python 3.10.4 64-bit",
   "language": "python",
   "name": "python3"
  },
  "language_info": {
   "codemirror_mode": {
    "name": "ipython",
    "version": 3
   },
   "file_extension": ".py",
   "mimetype": "text/x-python",
   "name": "python",
   "nbconvert_exporter": "python",
   "pygments_lexer": "ipython3",
   "version": "3.10.4"
  },
  "orig_nbformat": 4,
  "vscode": {
   "interpreter": {
    "hash": "31671a60cee805c34c73116577b485118ff3a75c458d3004d49632c19702ac60"
   }
  }
 },
 "nbformat": 4,
 "nbformat_minor": 2
}
