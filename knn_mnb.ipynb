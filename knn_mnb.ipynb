{
 "cells": [
  {
   "cell_type": "code",
   "execution_count": 1,
   "metadata": {},
   "outputs": [],
   "source": [
    "import numpy as np\n",
    "import matplotlib.pyplot as plt\n",
    "import pickle\n",
    "import os\n",
    "import time\n",
    "from sklearn.metrics import accuracy_score, f1_score\n",
    "from keras.datasets import mnist, cifar10\n",
    "from sklearn.model_selection import train_test_split "
   ]
  },
  {
   "cell_type": "markdown",
   "metadata": {},
   "source": [
    "# 1. Define model"
   ]
  },
  {
   "cell_type": "code",
   "execution_count": 2,
   "metadata": {},
   "outputs": [],
   "source": [
    "class KNN:\n",
    "    def fit(self, X, y, k=1):\n",
    "        self.X = X\n",
    "        self.y = y\n",
    "        self.k = k\n",
    "    \n",
    "    def predict(self, Z):\n",
    "        N, M = self.X.shape[0], Z.shape[0]\n",
    "        y_pred = np.empty((M, 1))\n",
    "        X2 = np.sum((self.X)*(self.X), 1)\n",
    "        Z2 = np.sum(Z*Z, 1)\n",
    "        res = Z2.reshape(-1, 1) + X2.reshape(1, -1) - 2*Z.dot(self.X.T)\n",
    "        idx = np.argsort(res, axis=1)[:, :self.k]\n",
    "        labels = self.y[idx]\n",
    "\n",
    "        for i in range(M):\n",
    "            bincount = np.bincount(labels[i])\n",
    "            y_pred[i] = np.argmax(bincount)\n",
    "        return y_pred"
   ]
  },
  {
   "cell_type": "code",
   "execution_count": 3,
   "metadata": {},
   "outputs": [],
   "source": [
    "class MNB:\n",
    "    def fit(self, X, y, alpha=1):\n",
    "        N, self.d = X.shape\n",
    "        self.n_classes = len(np.unique(y))\n",
    "\n",
    "        N_ci = np.empty((self.n_classes, self.d))\n",
    "        N_c = np.empty((self.n_classes, 1))\n",
    "        self.lamb = np.empty((self.n_classes, self.d))\n",
    "        self.p = np.empty((self.n_classes, 1))\n",
    "\n",
    "        for c in range(self.n_classes):\n",
    "            N_c[c] = np.sum(X[y==c])\n",
    "            N_ci[c] = np.sum(X[y==c], axis=0)\n",
    "            self.lamb[c] = (N_ci[c] + alpha) / (N_c[c] + self.d*alpha)\n",
    "            self.p[c] = len(y[y==c]) / len(y)\n",
    "\n",
    "        # print(self.lamb.shape)\n",
    "    \n",
    "    def predict(self, X):\n",
    "        N = X.shape[0]\n",
    "        y_pred = np.empty((N, self.n_classes))\n",
    "        \n",
    "        for i in range(N):\n",
    "            for c in range(self.n_classes):\n",
    "                y_pred[i, c] = self.p[c] * np.prod(self.lamb[c] ** X[i]) #axis=1\n",
    "            # print(y_pred)\n",
    "        return np.argmax(y_pred, axis=1)"
   ]
  },
  {
   "cell_type": "markdown",
   "metadata": {},
   "source": [
    "# 2. MNIST"
   ]
  },
  {
   "cell_type": "code",
   "execution_count": 418,
   "metadata": {},
   "outputs": [],
   "source": [
    "(X_train, y_train), (X_test, y_test) = mnist.load_data()"
   ]
  },
  {
   "cell_type": "code",
   "execution_count": 419,
   "metadata": {},
   "outputs": [
    {
     "name": "stdout",
     "output_type": "stream",
     "text": [
      "Train samples: (60000, 784)\n",
      "Test samples: (10000, 784)\n"
     ]
    }
   ],
   "source": [
    "X_train = X_train.reshape(-1, 784)\n",
    "X_train = X_train.astype('float32')\n",
    "X_test = X_test.reshape(-1, 784)\n",
    "X_test = X_test.astype('float32')\n",
    "\n",
    "# normalize\n",
    "X_train /= 255\n",
    "X_test /= 255\n",
    "print('Train samples:', X_train.shape)\n",
    "print('Test samples:', X_test.shape)"
   ]
  },
  {
   "cell_type": "markdown",
   "metadata": {},
   "source": [
    "## Train, Evaluate"
   ]
  },
  {
   "cell_type": "code",
   "execution_count": 420,
   "metadata": {},
   "outputs": [],
   "source": [
    "# Save train time each model\n",
    "train_times = []\n",
    "# save scores each model\n",
    "accuracy_scores = []\n",
    "f1_scores = []"
   ]
  },
  {
   "cell_type": "code",
   "execution_count": 421,
   "metadata": {},
   "outputs": [
    {
     "name": "stdout",
     "output_type": "stream",
     "text": [
      "KNN:\n",
      "Huấn luyện và đánh giá xong sau 71.27s\n",
      "Accuracy score: 96.940 %\n",
      "F1 score:       96.938 %\n"
     ]
    }
   ],
   "source": [
    "knn = KNN()\n",
    "\n",
    "start = time.time()\n",
    "knn.fit(X_train, y_train, k=7)\n",
    "y_pred = knn.predict(X_test)\n",
    "tmp = time.time() - start\n",
    "train_times.append(tmp)\n",
    "\n",
    "acc = accuracy_score(y_test, y_pred)\n",
    "f1 = f1_score(y_test, y_pred, average='macro')\n",
    "accuracy_scores.append(acc)\n",
    "f1_scores.append(f1)\n",
    "\n",
    "print('KNN:')\n",
    "print('Huấn luyện và đánh giá xong sau {:.2f}s'.format(tmp))\n",
    "print('Accuracy score: {:.3f} %'.format(acc * 100))\n",
    "print('F1 score:       {:.3f} %'.format(f1 * 100))"
   ]
  },
  {
   "cell_type": "code",
   "execution_count": 422,
   "metadata": {},
   "outputs": [
    {
     "name": "stdout",
     "output_type": "stream",
     "text": [
      "MNB:\n",
      "Huấn luyệnvvà đánh giá xong sau 1.44s\n",
      "Accuracy score: 70.900 %\n",
      "F1 score:       71.797 %\n"
     ]
    }
   ],
   "source": [
    "mnb = MNB()\n",
    "\n",
    "start = time.time()\n",
    "mnb.fit(X_train, y_train, 0.5)\n",
    "y_pred = mnb.predict(X_test)\n",
    "\n",
    "acc = accuracy_score(y_test, y_pred)\n",
    "f1 = f1_score(y_test, y_pred, average='macro')\n",
    "accuracy_scores.append(acc)\n",
    "f1_scores.append(f1)\n",
    "\n",
    "tmp = time.time() - start\n",
    "train_times.append(tmp)\n",
    "\n",
    "print('MNB:')\n",
    "print('Huấn luyệnvvà đánh giá xong sau {:.2f}s'.format(tmp))\n",
    "print('Accuracy score: {:.3f} %'.format(acc * 100))\n",
    "print('F1 score:       {:.3f} %'.format(f1 * 100))"
   ]
  },
  {
   "cell_type": "markdown",
   "metadata": {},
   "source": [
    "## Visualize"
   ]
  },
  {
   "cell_type": "code",
   "execution_count": 423,
   "metadata": {},
   "outputs": [],
   "source": [
    "models = np.array(['KNN', 'Multinomial NB'])"
   ]
  },
  {
   "cell_type": "code",
   "execution_count": 424,
   "metadata": {},
   "outputs": [
    {
     "data": {
      "image/png": "[encoded data removed]",
      "text/plain": [
       "<Figure size 1152x720 with 1 Axes>"
      ]
     },
     "metadata": {
      "needs_background": "light"
     },
     "output_type": "display_data"
    }
   ],
   "source": [
    "# Về thời gian\n",
    "plt.figure(figsize=(16, 10))\n",
    "plt.title('Thời gian train và test với dữ liệu MNIST')\n",
    "plt.xlabel('Mô hình')\n",
    "plt.ylabel('Thời gian (s)')\n",
    "plt.bar(models, np.array(train_times), color='dodgerblue', width=0.5, label='Train')\n",
    "plt.legend(loc='best')\n",
    "plt.savefig('image/knn_mnb/mnist_time_comparision.png', facecolor='whitesmoke')\n",
    "plt.show()"
   ]
  },
  {
   "cell_type": "code",
   "execution_count": 425,
   "metadata": {},
   "outputs": [
    {
     "data": {
      "image/png": "[encoded data removed]",
      "text/plain": [
       "<Figure size 1152x720 with 1 Axes>"
      ]
     },
     "metadata": {
      "needs_background": "light"
     },
     "output_type": "display_data"
    }
   ],
   "source": [
    "# Về độ chính xác\n",
    "plt.figure(figsize=(16, 10))\n",
    "plt.title('Độ chính xác của các mô hình với dữ liệu MNIST')\n",
    "plt.xlabel('Mô hình')\n",
    "plt.ylabel('%')\n",
    "plt.ylim(60, 100)\n",
    "plt.bar(models, np.array(accuracy_scores) * 100, color='tomato', width=0.5, label='Accuracy')\n",
    "plt.savefig('image/knn_mnb/mnist_accuracy_comparision.png', facecolor='whitesmoke')\n",
    "plt.show()"
   ]
  },
  {
   "cell_type": "code",
   "execution_count": 426,
   "metadata": {},
   "outputs": [
    {
     "data": {
      "image/png": "[encoded data removed]",
      "text/plain": [
       "<Figure size 1152x720 with 1 Axes>"
      ]
     },
     "metadata": {
      "needs_background": "light"
     },
     "output_type": "display_data"
    }
   ],
   "source": [
    "# Về F1 score\n",
    "plt.figure(figsize=(16, 10))\n",
    "plt.title('F1 score của các mô hình với dữ liệu MNIST')\n",
    "plt.xlabel('Mô hình')\n",
    "plt.ylabel('%')\n",
    "plt.ylim(60, 100)\n",
    "plt.bar(models, np.array(f1_scores) * 100, color='crimson', width=0.5, label='F1')\n",
    "plt.savefig('image/knn_mnb/mnist_f1_comparision.png', facecolor='whitesmoke')\n",
    "plt.show()"
   ]
  },
  {
   "cell_type": "markdown",
   "metadata": {},
   "source": [
    "# 2. Vietnamese news"
   ]
  },
  {
   "cell_type": "code",
   "execution_count": 4,
   "metadata": {},
   "outputs": [],
   "source": [
    "from sklearn.pipeline import Pipeline\n",
    "from sklearn.feature_extraction.text import CountVectorizer, TfidfTransformer\n",
    "from sklearn.preprocessing import LabelEncoder"
   ]
  },
  {
   "cell_type": "markdown",
   "metadata": {},
   "source": [
    "## Load, preprocess"
   ]
  },
  {
   "cell_type": "code",
   "execution_count": 14,
   "metadata": {},
   "outputs": [],
   "source": [
    "# Đường dẫn\n",
    "train_x_path = 'data/vnnews/train_x.sav'\n",
    "train_y_path = 'data/vnnews/train_y.sav'\n",
    "test_x_path = 'data/vnnews/test_x.sav'\n",
    "test_y_path = 'data/vnnews/test_y.sav'\n",
    "\n",
    "# Load dữ liệu\n",
    "x_train = np.array(pickle.load(open(train_x_path, 'rb')))\n",
    "y_train = np.array(pickle.load(open(train_y_path, 'rb')))\n",
    "x_test = np.array(pickle.load(open(test_x_path, 'rb')))\n",
    "y_test = np.array(pickle.load(open(test_y_path, 'rb')))"
   ]
  },
  {
   "cell_type": "code",
   "execution_count": 15,
   "metadata": {},
   "outputs": [
    {
     "name": "stdout",
     "output_type": "stream",
     "text": [
      "Kích thước vector input:  (14375, 79170)\n",
      "Kích thước vector test (12076, 79170)\n"
     ]
    }
   ],
   "source": [
    "feature_extractor = Pipeline([\n",
    "    # Chuyển tập dữ liệu sang dạng vector count dựa trên một vocab chung (BoW), loại bỏ những word có tần suất xuất hiện > 0.8\n",
    "    ('vectorize', CountVectorizer(max_df=0.8, encoding='utf-16')),\n",
    "    \n",
    "    # Áp dụng TF-IDF để trích chọn đặc trưng (extract feature)\n",
    "    ('feature extracter', TfidfTransformer())\n",
    "])\n",
    "\n",
    "train_features = feature_extractor.fit_transform(x_train, y_train)\n",
    "test_features = feature_extractor.transform(x_test)\n",
    "print('Kích thước vector input: ', train_features.shape)\n",
    "print('Kích thước vector test', test_features.shape)"
   ]
  },
  {
   "cell_type": "code",
   "execution_count": 16,
   "metadata": {},
   "outputs": [],
   "source": [
    "X_train = train_features.astype('float32').toarray()\n",
    "X_test = test_features.astype('float32').toarray()"
   ]
  },
  {
   "cell_type": "code",
   "execution_count": 17,
   "metadata": {},
   "outputs": [],
   "source": [
    "le = LabelEncoder()\n",
    "y_train = le.fit_transform(y_train)\n",
    "y_test = le.fit_transform(y_test)"
   ]
  },
  {
   "cell_type": "markdown",
   "metadata": {},
   "source": [
    "## Train, Evaluate"
   ]
  },
  {
   "cell_type": "code",
   "execution_count": 19,
   "metadata": {},
   "outputs": [],
   "source": [
    "# Save train time each model\n",
    "train_times = []\n",
    "# save scores each model\n",
    "accuracy_scores = []\n",
    "f1_scores = []"
   ]
  },
  {
   "cell_type": "code",
   "execution_count": 21,
   "metadata": {},
   "outputs": [
    {
     "name": "stdout",
     "output_type": "stream",
     "text": [
      "KNN:\n",
      "Huấn luyện và đánh giá xong sau 175.63s\n",
      "Accuracy score: 80.648 %\n",
      "F1 score:       76.136 %\n"
     ]
    }
   ],
   "source": [
    "knn = KNN()\n",
    "\n",
    "start = time.time()\n",
    "knn.fit(X_train, y_train, k=7)\n",
    "y_pred = knn.predict(X_test)\n",
    "\n",
    "acc = accuracy_score(y_test, y_pred)\n",
    "f1 = f1_score(y_test, y_pred, average='macro')\n",
    "accuracy_scores.append(acc)\n",
    "f1_scores.append(f1)\n",
    "\n",
    "tmp = time.time() - start\n",
    "train_times.append(tmp)\n",
    "\n",
    "print('KNN:')\n",
    "print('Huấn luyện và đánh giá xong sau {:.2f}s'.format(tmp))\n",
    "print('Accuracy score: {:.3f} %'.format(acc * 100))\n",
    "print('F1 score:       {:.3f} %'.format(f1 * 100))"
   ]
  },
  {
   "cell_type": "code",
   "execution_count": 22,
   "metadata": {},
   "outputs": [
    {
     "name": "stdout",
     "output_type": "stream",
     "text": [
      "MNB:\n",
      "Huấn luyệnvvà đánh giá xong sau 269.65s\n",
      "Accuracy score: 74.536 %\n",
      "F1 score:       57.519 %\n"
     ]
    }
   ],
   "source": [
    "mnb = MNB()\n",
    "\n",
    "start = time.time()\n",
    "mnb.fit(X_train, y_train, 0.5)\n",
    "y_pred = mnb.predict(X_test)\n",
    "\n",
    "acc = accuracy_score(y_test, y_pred)\n",
    "f1 = f1_score(y_test, y_pred, average='macro')\n",
    "accuracy_scores.append(acc)\n",
    "f1_scores.append(f1)\n",
    "\n",
    "tmp = time.time() - start\n",
    "train_times.append(tmp)\n",
    "\n",
    "print('MNB:')\n",
    "print('Huấn luyệnvvà đánh giá xong sau {:.2f}s'.format(tmp))\n",
    "print('Accuracy score: {:.3f} %'.format(acc * 100))\n",
    "print('F1 score:       {:.3f} %'.format(f1 * 100))"
   ]
  },
  {
   "cell_type": "markdown",
   "metadata": {},
   "source": [
    "## Visualize"
   ]
  },
  {
   "cell_type": "code",
   "execution_count": 23,
   "metadata": {},
   "outputs": [],
   "source": [
    "models = np.array(['KNN', 'Multinomial NB'])"
   ]
  },
  {
   "cell_type": "code",
   "execution_count": 24,
   "metadata": {},
   "outputs": [
    {
     "data": {
      "image/png": "[encoded data removed]",
      "text/plain": [
       "<Figure size 1152x720 with 1 Axes>"
      ]
     },
     "metadata": {
      "needs_background": "light"
     },
     "output_type": "display_data"
    }
   ],
   "source": [
    "# Về thời gian\n",
    "plt.figure(figsize=(16, 10))\n",
    "plt.title('Thời gian train và test với dữ liệu tin tức')\n",
    "plt.xlabel('Mô hình')\n",
    "plt.ylabel('Thời gian (s)')\n",
    "plt.bar(models, np.array(train_times), color='dodgerblue', width=0.5, label='Train')\n",
    "plt.legend(loc='best')\n",
    "plt.savefig('image/knn_mnb/vnnews_time_comparision.png', facecolor='whitesmoke')\n",
    "plt.show()"
   ]
  },
  {
   "cell_type": "code",
   "execution_count": 25,
   "metadata": {},
   "outputs": [
    {
     "data": {
      "image/png": "[encoded data removed]",
      "text/plain": [
       "<Figure size 864x432 with 1 Axes>"
      ]
     },
     "metadata": {
      "needs_background": "light"
     },
     "output_type": "display_data"
    }
   ],
   "source": [
    "# Về độ chính xác\n",
    "plt.figure(figsize=(12, 6))\n",
    "plt.title('Độ chính xác của các mô hình với dữ liệu tin tức')\n",
    "plt.xlabel('Mô hình')\n",
    "plt.ylabel('%')\n",
    "plt.ylim(60, 100)\n",
    "plt.bar(models, np.array(accuracy_scores) * 100, color='tomato', width=0.5, label='Accuracy')\n",
    "plt.savefig('image/knn_mnb/vnnews_accuracy_comparision.png', facecolor='whitesmoke')\n",
    "plt.show()"
   ]
  },
  {
   "cell_type": "code",
   "execution_count": 26,
   "metadata": {},
   "outputs": [
    {
     "data": {
      "image/png": "[encoded data removed]",
      "text/plain": [
       "<Figure size 864x432 with 1 Axes>"
      ]
     },
     "metadata": {
      "needs_background": "light"
     },
     "output_type": "display_data"
    }
   ],
   "source": [
    "# Về F1 score\n",
    "plt.figure(figsize=(12, 6))\n",
    "plt.title('F1 score của các mô hình với dữ liệu tin tức')\n",
    "plt.xlabel('Mô hình')\n",
    "plt.ylabel('%')\n",
    "plt.ylim(40, 90)\n",
    "plt.bar(models, np.array(f1_scores) * 100, color='crimson', width=0.5, label='F1')\n",
    "plt.savefig('image/knn_mnb/vnnews_f1_comparision.png', facecolor='whitesmoke')\n",
    "plt.show()"
   ]
  },
  {
   "cell_type": "markdown",
   "metadata": {},
   "source": [
    "# 3. Flower"
   ]
  },
  {
   "cell_type": "code",
   "execution_count": 4,
   "metadata": {},
   "outputs": [],
   "source": [
    "# Đường dẫn\n",
    "features_path = 'data/flower/flower_features.sav'\n",
    "labels_path = 'data/flower/flower_labels.sav'\n",
    "\n",
    "# Load dữ liệu\n",
    "features = np.array(pickle.load(open(features_path, 'rb')))\n",
    "labels = np.array(pickle.load(open(labels_path, 'rb')))"
   ]
  },
  {
   "cell_type": "code",
   "execution_count": 5,
   "metadata": {},
   "outputs": [],
   "source": [
    "# Chia traing set, test set tỉ lệ 80-20\n",
    "X_train, X_test, y_train, y_test = train_test_split(features, labels, test_size=0.2, random_state=42)"
   ]
  },
  {
   "cell_type": "markdown",
   "metadata": {},
   "source": [
    "## Train, Evaluate"
   ]
  },
  {
   "cell_type": "code",
   "execution_count": 6,
   "metadata": {},
   "outputs": [],
   "source": [
    "# Save train time each model\n",
    "train_times = []\n",
    "# save scores each model\n",
    "accuracy_scores = []\n",
    "f1_scores = []"
   ]
  },
  {
   "cell_type": "code",
   "execution_count": 7,
   "metadata": {},
   "outputs": [
    {
     "name": "stdout",
     "output_type": "stream",
     "text": [
      "KNN:\n",
      "Huấn luyện và đánh giá xong sau 0.22s\n",
      "Accuracy score: 52.941 %\n",
      "F1 score:       55.341 %\n"
     ]
    }
   ],
   "source": [
    "knn = KNN()\n",
    "\n",
    "start = time.time()\n",
    "knn.fit(X_train, y_train, k=3)\n",
    "y_pred = knn.predict(X_test)\n",
    "\n",
    "acc = accuracy_score(y_test, y_pred)\n",
    "f1 = f1_score(y_test, y_pred, average='macro')\n",
    "accuracy_scores.append(acc)\n",
    "f1_scores.append(f1)\n",
    "\n",
    "tmp = time.time() - start\n",
    "train_times.append(tmp)\n",
    "\n",
    "print('KNN:')\n",
    "print('Huấn luyện và đánh giá xong sau {:.2f}s'.format(tmp))\n",
    "print('Accuracy score: {:.3f} %'.format(acc * 100))\n",
    "print('F1 score:       {:.3f} %'.format(f1 * 100))"
   ]
  },
  {
   "cell_type": "code",
   "execution_count": 8,
   "metadata": {},
   "outputs": [
    {
     "name": "stdout",
     "output_type": "stream",
     "text": [
      "MNB:\n",
      "Huấn luyện và đánh giá xong sau 2.89s\n",
      "Accuracy score: 3.676 %\n",
      "F1 score:       0.417 %\n"
     ]
    }
   ],
   "source": [
    "mnb = MNB()\n",
    "\n",
    "start = time.time()\n",
    "mnb.fit(X_train, y_train, 0.5)\n",
    "y_pred = mnb.predict(X_test)\n",
    "\n",
    "acc = accuracy_score(y_test, y_pred)\n",
    "f1 = f1_score(y_test, y_pred, average='macro')\n",
    "accuracy_scores.append(acc)\n",
    "f1_scores.append(f1)\n",
    "\n",
    "tmp = time.time() - start\n",
    "train_times.append(tmp)\n",
    "\n",
    "print('MNB:')\n",
    "print('Huấn luyện và đánh giá xong sau {:.2f}s'.format(tmp))\n",
    "print('Accuracy score: {:.3f} %'.format(acc * 100))\n",
    "print('F1 score:       {:.3f} %'.format(f1 * 100))"
   ]
  },
  {
   "cell_type": "code",
   "execution_count": 9,
   "metadata": {},
   "outputs": [
    {
     "name": "stdout",
     "output_type": "stream",
     "text": [
      "[0 0 0 0 0 0 0 0 0 0 0 0 0 0 0 0 0 0 0 0 0 0 0 0 0 0 0 0 0 0 0 0 0 0 0 0 0\n",
      " 0 0 0 0 0 0 0 0 0 0 0 0 0 0 0 0 0 0 0 0 0 0 0 0 0 0 0 0 0 0 0 0 0 0 0 0 0\n",
      " 0 0 0 0 0 0 0 0 0 0 0 0 0 0 0 0 0 0 0 0 0 0 0 0 0 0 0 0 0 0 0 0 0 0 0 0 0\n",
      " 0 0 0 0 0 0 0 0 0 0 0 0 0 0 0 0 0 0 0 0 0 0 0 0 0 0 0 0 0 0 0 0 0 0 0 0 0\n",
      " 0 0 0 0 0 0 0 0 0 0 0 0 0 0 0 0 0 0 0 0 0 0 0 0 0 0 0 0 0 0 0 0 0 0 0 0 0\n",
      " 0 0 0 0 0 0 0 0 0 0 0 0 0 0 0 0 0 0 0 0 0 0 0 0 0 0 0 0 0 0 0 0 0 0 0 0 0\n",
      " 0 0 0 0 0 0 0 0 0 0 0 0 0 0 0 0 0 0 0 0 0 0 0 0 0 0 0 0 0 0 0 0 0 0 0 0 0\n",
      " 0 0 0 0 0 0 0 0 0 0 0 0 0]\n",
      "[14 13 10 15 15 13  9  5  3  2  5  6 11 11  8  7 10 12  9  5 12 11 15 13\n",
      "  1 15  4  8 11 16 14  3 10  2  7  6 10  3 14  2 13  3  8 11 10  9  9  1\n",
      "  8 12 16  7  7  4  0  5  9 10 16  4 10  8  2  8  4  8 14  9  1  5  2  7\n",
      " 15  3  8 14 12 13 15 14 10  8 11  9  2  0  3  4  0 14 10  0  0  5 11  8\n",
      "  4  8  1  4 13  7  8  7 12  3 10 14 16  8  9 10  7  0  2 15 12 11  8  6\n",
      "  9  8  4  9  5 11  5  5  0 12  7 15 12 13 13 13 14  4  1 16  6 14 10  8\n",
      " 12  8  0  2  7  3  2 15  1 12  8 15  6 15  8 10  6 16  1  5  2 13  8  2\n",
      " 12 16  5 14  7  9 10 11  1  3  8  6 13 13 12  1 14 15  8 11  3  5 14  5\n",
      " 14 15  4  2  3  0 13 14  1 14 14 11 15  5 12 11 12  7 16 14  0 12  5  3\n",
      "  1  9 14 14 15  7  5  8 15 10  6  4 16 15  2  4  3 10 15  5 16 16 14  5\n",
      " 10  5  4 16 13  2  7 16 15  3  4  9  2 16  4  1  1  7 14  8 13 14  6 16\n",
      "  3 10 15  7  5 13  1 11]\n"
     ]
    }
   ],
   "source": [
    "print(y_pred.reshape(-1))\n",
    "print(y_test)"
   ]
  },
  {
   "cell_type": "markdown",
   "metadata": {},
   "source": [
    "# other"
   ]
  },
  {
   "cell_type": "code",
   "execution_count": 331,
   "metadata": {},
   "outputs": [],
   "source": [
    "import numpy as np\n",
    "from sklearn import neighbors, datasets\n",
    "from sklearn.model_selection import train_test_split # for splitting data\n",
    "from sklearn.metrics import accuracy_score # for evaluating results\n",
    "iris = datasets.load_iris()\n",
    "iris_X = iris.data\n",
    "iris_y = iris.target\n"
   ]
  },
  {
   "cell_type": "code",
   "execution_count": 410,
   "metadata": {},
   "outputs": [],
   "source": [
    "X_train, X_test, y_train, y_test = train_test_split(\n",
    "    iris_X, iris_y, test_size=20)\n"
   ]
  },
  {
   "cell_type": "code",
   "execution_count": 365,
   "metadata": {},
   "outputs": [],
   "source": [
    "# train data\n",
    "d1 = [2, 1, 1, 0, 0, 0, 0, 0, 0]\n",
    "d2 = [1, 1, 0, 1, 1, 0, 0, 0, 0]\n",
    "d3 = [0, 1, 0, 0, 1, 1, 0, 0, 0]\n",
    "d4 = [0, 1, 0, 0, 0, 0, 1, 1, 1]\n",
    "X_train = np.array([d1, d2, d3, d4])\n",
    "y_train = np.array([0, 0, 0, 1]) # 0 - B, 1 - N\n",
    "# test data\n",
    "d5 = np.array([[2, 0, 0, 1, 0, 0, 0, 1, 0]])\n",
    "d6 = np.array([[0, 1, 0, 0, 0, 0, 0, 1, 1]])\n",
    "y_test = np.array([0, 1])\n",
    "X_test = np.concatenate((d5, d6), axis=0)"
   ]
  },
  {
   "cell_type": "code",
   "execution_count": 395,
   "metadata": {},
   "outputs": [
    {
     "name": "stdout",
     "output_type": "stream",
     "text": [
      "69.16\n"
     ]
    }
   ],
   "source": [
    "mnb = MNB()\n",
    "mnb.fit(X_train, y_train, 100)\n",
    "y_pred = mnb.predict(X_test)\n",
    "print(accuracy_score(y_pred, y_test) * 100)\n",
    "# print(y_pred)"
   ]
  },
  {
   "cell_type": "code",
   "execution_count": null,
   "metadata": {},
   "outputs": [],
   "source": []
  }
 ],
 "metadata": {
  "kernelspec": {
   "display_name": "Python 3.10.4 64-bit",
   "language": "python",
   "name": "python3"
  },
  "language_info": {
   "codemirror_mode": {
    "name": "ipython",
    "version": 3
   },
   "file_extension": ".py",
   "mimetype": "text/x-python",
   "name": "python",
   "nbconvert_exporter": "python",
   "pygments_lexer": "ipython3",
   "version": "3.10.4"
  },
  "orig_nbformat": 4,
  "vscode": {
   "interpreter": {
    "hash": "31671a60cee805c34c73116577b485118ff3a75c458d3004d49632c19702ac60"
   }
  }
 },
 "nbformat": 4,
 "nbformat_minor": 2
}
